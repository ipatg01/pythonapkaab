{
  "nbformat": 4,
  "nbformat_minor": 0,
  "metadata": {
    "colab": {
      "provenance": []
    },
    "kernelspec": {
      "name": "python3",
      "display_name": "Python 3"
    },
    "language_info": {
      "name": "python"
    }
  },
  "cells": [
    {
      "cell_type": "code",
      "execution_count": null,
      "metadata": {
        "id": "_-xk3MdH6Vtr"
      },
      "outputs": [],
      "source": [
        "!pip install buildozer"
      ]
    },
    {
      "cell_type": "code",
      "source": [
        "!pip install cython==0.29.19"
      ],
      "metadata": {
        "id": "KBKj9WqE6cDr"
      },
      "execution_count": null,
      "outputs": []
    },
    {
      "cell_type": "code",
      "source": [
        "!apt install -y \\\n",
        "    python3-pip \\\n",
        "    build-essential \\\n",
        "    git \\\n",
        "    python3 \\\n",
        "    python3-dev \\\n",
        "    ffmpeg \\\n",
        "    libsdl2-dev \\\n",
        "    libsdl2-image-dev \\\n",
        "    libsdl2-mixer-dev \\\n",
        "    libsdl2-ttf-dev \\\n",
        "    libportmidi-dev \\\n",
        "    libswscale-dev \\\n",
        "    libavformat-dev \\\n",
        "    libavcodec-dev \\\n",
        "    zlib1g-dev"
      ],
      "metadata": {
        "id": "XCOmLWlH6eka"
      },
      "execution_count": null,
      "outputs": []
    },
    {
      "cell_type": "code",
      "source": [
        "!apt install -y \\\n",
        "    libgstreamer1.0 \\\n",
        "    gstreamer1.0-plugins-base \\\n",
        "    gstreamer1.0-plugins-good"
      ],
      "metadata": {
        "id": "m8RhKkQN6hr1"
      },
      "execution_count": null,
      "outputs": []
    },
    {
      "cell_type": "code",
      "source": [
        "!apt install build-essential libsqlite3-dev sqlite3 bzip2 libbz2-dev zlib1g-dev libssl-dev openssl libgdbm-dev libgdbm-compat-dev liblzma-dev libreadline-dev libncursesw5-dev libffi-dev uuid-dev libffi6"
      ],
      "metadata": {
        "id": "dL3KtDBL6kVT"
      },
      "execution_count": null,
      "outputs": []
    },
    {
      "cell_type": "code",
      "source": [
        "!apt install libffi-dev"
      ],
      "metadata": {
        "id": "N2Mu_Yrc6nBs"
      },
      "execution_count": null,
      "outputs": []
    },
    {
      "cell_type": "code",
      "source": [
        "!sudo apt-get install curl autoconf automake libtool python-dev pkg-config"
      ],
      "metadata": {
        "id": "WXcoBawY6pga"
      },
      "execution_count": null,
      "outputs": []
    },
    {
      "cell_type": "code",
      "source": [
        "!sudo apt-get install curl autoconf automake libtool pkg-config"
      ],
      "metadata": {
        "id": "X0OhrX9s6siE"
      },
      "execution_count": null,
      "outputs": []
    },
    {
      "cell_type": "code",
      "source": [
        "!apt install libltdl-dev"
      ],
      "metadata": {
        "id": "HMKYlBCr6vBj"
      },
      "execution_count": null,
      "outputs": []
    },
    {
      "cell_type": "code",
      "source": [
        "!pip install kivy"
      ],
      "metadata": {
        "id": "gFHb3s-j6yGX"
      },
      "execution_count": null,
      "outputs": []
    },
    {
      "cell_type": "code",
      "source": [
        "!apt install ldd"
      ],
      "metadata": {
        "id": "nEajV9Ma60r9"
      },
      "execution_count": null,
      "outputs": []
    },
    {
      "cell_type": "code",
      "source": [
        "!buildozer init "
      ],
      "metadata": {
        "id": "xZgubOCd63f6"
      },
      "execution_count": null,
      "outputs": []
    },
    {
      "cell_type": "code",
      "source": [
        "!keytool -h"
      ],
      "metadata": {
        "id": "AFL-JSgI66mV"
      },
      "execution_count": null,
      "outputs": []
    },
    {
      "cell_type": "code",
      "source": [
        "!mkdir keystores"
      ],
      "metadata": {
        "id": "Z0Q8euE75xoq"
      },
      "execution_count": null,
      "outputs": []
    },
    {
      "cell_type": "code",
      "source": [
        "!keytool -genkey -v -keystore keystores/simpleapp.keystore -alias smpapp -keyalg RSA -keysize 2048 -validity 10000"
      ],
      "metadata": {
        "id": "Ae1ioYPh54Gx"
      },
      "execution_count": null,
      "outputs": []
    },
    {
      "cell_type": "code",
      "source": [
        "!keytool -importkeystore -srckeystore keystores/simpleapp.keystore -destkeystore keystores/simpleapp.keystore -deststoretype pkcs12"
      ],
      "metadata": {
        "id": "dC2kZg2p57-_"
      },
      "execution_count": null,
      "outputs": []
    },
    {
      "cell_type": "code",
      "source": [
        "!keytool -list -keystore keystores/simpleapp.keystore -alias smpapp -v -storepass 241073"
      ],
      "metadata": {
        "id": "4gyhP3P45-7L"
      },
      "execution_count": null,
      "outputs": []
    },
    {
      "cell_type": "code",
      "source": [
        "%env P4A_RELEASE_KEYSTORE=/content/keystores/simpleapp.keystore"
      ],
      "metadata": {
        "id": "Wfw1ViL56CDz"
      },
      "execution_count": null,
      "outputs": []
    },
    {
      "cell_type": "code",
      "source": [
        "  %env P4A_RELEASE_KEYSTORE_PASSWD=241073"
      ],
      "metadata": {
        "id": "OM5OUJRA6Emh"
      },
      "execution_count": null,
      "outputs": []
    },
    {
      "cell_type": "code",
      "source": [
        "%env P4A_RELEASE_KEYALIAS_PASSWD=241073"
      ],
      "metadata": {
        "id": "DpWxPjov6HBW"
      },
      "execution_count": null,
      "outputs": []
    },
    {
      "cell_type": "code",
      "source": [
        "%env P4A_RELEASE_KEYALIAS=smpapp"
      ],
      "metadata": {
        "id": "-_0DARQG6J1-"
      },
      "execution_count": null,
      "outputs": []
    },
    {
      "cell_type": "code",
      "source": [
        "!export"
      ],
      "metadata": {
        "id": "uPHME3Nk6MVY"
      },
      "execution_count": null,
      "outputs": []
    },
    {
      "cell_type": "code",
      "source": [
        "!buildozer -v android release"
      ],
      "metadata": {
        "id": "Srt0bYBf6Qf0"
      },
      "execution_count": null,
      "outputs": []
    }
  ]
}